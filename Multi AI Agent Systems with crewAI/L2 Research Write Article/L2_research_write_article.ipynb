{
 "cells": [
  {
   "cell_type": "markdown",
   "metadata": {},
   "source": [
    "You can download the `requirements.txt` for this course from the workspace of this lab. `File --> Open...`"
   ]
  },
  {
   "cell_type": "markdown",
   "metadata": {},
   "source": [
    "# L2: Create Agents to Research and Write an Article\n",
    "\n",
    "In this lesson, you will be introduced to the foundational concepts of multi-agent systems and get an overview of the crewAI framework."
   ]
  },
  {
   "cell_type": "markdown",
   "metadata": {},
   "source": [
    "The libraries are already installed in the classroom. If you're running this notebook on your own machine, you can install the following:\n",
    "```Python\n",
    "!pip install crewai==0.28.8 crewai_tools==0.1.6 langchain_community==0.0.29\n",
    "```"
   ]
  },
  {
   "cell_type": "code",
   "execution_count": 1,
   "metadata": {
    "height": 64
   },
   "outputs": [],
   "source": [
    "# Warning control\n",
    "import warnings\n",
    "warnings.filterwarnings('ignore')"
   ]
  },
  {
   "cell_type": "markdown",
   "metadata": {},
   "source": [
    "- Import from the crewAI libray."
   ]
  },
  {
   "cell_type": "code",
   "execution_count": 2,
   "metadata": {
    "height": 30
   },
   "outputs": [],
   "source": [
    "from crewai import Agent, Task, Crew"
   ]
  },
  {
   "cell_type": "markdown",
   "metadata": {},
   "source": [
    "- As a LLM for your agents, you'll be using OpenAI's `gpt-3.5-turbo`.\n",
    "\n",
    "**Optional Note:** crewAI also allow other popular models to be used as a LLM for your Agents. You can see some of the examples at the [bottom of the notebook](#1)."
   ]
  },
  {
   "cell_type": "code",
   "execution_count": 3,
   "metadata": {
    "height": 98
   },
   "outputs": [],
   "source": [
    "import os\n",
    "from utils import get_openai_api_key\n",
    "\n",
    "openai_api_key = get_openai_api_key()\n",
    "os.environ[\"OPENAI_MODEL_NAME\"] = 'gpt-3.5-turbo'"
   ]
  },
  {
   "cell_type": "markdown",
   "metadata": {},
   "source": [
    "## Creating Agents\n",
    "\n",
    "- Define your Agents, and provide them a `role`, `goal` and `backstory`.\n",
    "- It has been seen that LLMs perform better when they are role playing."
   ]
  },
  {
   "cell_type": "markdown",
   "metadata": {},
   "source": [
    "### Agent: Planner\n",
    "\n",
    "**Note**: The benefit of using _multiple strings_ :\n",
    "```Python\n",
    "varname = \"line 1 of text\"\n",
    "          \"line 2 of text\"\n",
    "```\n",
    "\n",
    "versus the _triple quote docstring_:\n",
    "```Python\n",
    "varname = \"\"\"line 1 of text\n",
    "             line 2 of text\n",
    "          \"\"\"\n",
    "```\n",
    "is that it can avoid adding those whitespaces and newline characters, making it better formatted to be passed to the LLM."
   ]
  },
  {
   "cell_type": "code",
   "execution_count": 4,
   "metadata": {
    "height": 234
   },
   "outputs": [],
   "source": [
    "planner = Agent(\n",
    "    role=\"Content Planner\",\n",
    "    goal=\"Plan engaging and factually accurate content on {topic}\",\n",
    "    backstory=\"You're working on planning a blog article \"\n",
    "              \"about the topic: {topic}.\"\n",
    "              \"You collect information that helps the \"\n",
    "              \"audience learn something \"\n",
    "              \"and make informed decisions. \"\n",
    "              \"Your work is the basis for \"\n",
    "              \"the Content Writer to write an article on this topic.\",\n",
    "    allow_delegation=False,\n",
    "\tverbose=True\n",
    ")"
   ]
  },
  {
   "cell_type": "markdown",
   "metadata": {},
   "source": [
    "### Agent: Writer"
   ]
  },
  {
   "cell_type": "code",
   "execution_count": 5,
   "metadata": {
    "height": 370
   },
   "outputs": [],
   "source": [
    "writer = Agent(\n",
    "    role=\"Content Writer\",\n",
    "    goal=\"Write insightful and factually accurate \"\n",
    "         \"opinion piece about the topic: {topic}\",\n",
    "    backstory=\"You're working on a writing \"\n",
    "              \"a new opinion piece about the topic: {topic}. \"\n",
    "              \"You base your writing on the work of \"\n",
    "              \"the Content Planner, who provides an outline \"\n",
    "              \"and relevant context about the topic. \"\n",
    "              \"You follow the main objectives and \"\n",
    "              \"direction of the outline, \"\n",
    "              \"as provide by the Content Planner. \"\n",
    "              \"You also provide objective and impartial insights \"\n",
    "              \"and back them up with information \"\n",
    "              \"provide by the Content Planner. \"\n",
    "              \"You acknowledge in your opinion piece \"\n",
    "              \"when your statements are opinions \"\n",
    "              \"as opposed to objective statements.\",\n",
    "    allow_delegation=False,\n",
    "    verbose=True\n",
    ")"
   ]
  },
  {
   "cell_type": "markdown",
   "metadata": {},
   "source": [
    "### Agent: Editor"
   ]
  },
  {
   "cell_type": "code",
   "execution_count": 6,
   "metadata": {
    "height": 268
   },
   "outputs": [],
   "source": [
    "editor = Agent(\n",
    "    role=\"Editor\",\n",
    "    goal=\"Edit a given blog post to align with \"\n",
    "         \"the writing style of the organization. \",\n",
    "    backstory=\"You are an editor who receives a blog post \"\n",
    "              \"from the Content Writer. \"\n",
    "              \"Your goal is to review the blog post \"\n",
    "              \"to ensure that it follows journalistic best practices,\"\n",
    "              \"provides balanced viewpoints \"\n",
    "              \"when providing opinions or assertions, \"\n",
    "              \"and also avoids major controversial topics \"\n",
    "              \"or opinions when possible.\",\n",
    "    allow_delegation=False,\n",
    "    verbose=True\n",
    ")"
   ]
  },
  {
   "cell_type": "markdown",
   "metadata": {},
   "source": [
    "## Creating Tasks\n",
    "\n",
    "- Define your Tasks, and provide them a `description`, `expected_output` and `agent`."
   ]
  },
  {
   "cell_type": "markdown",
   "metadata": {},
   "source": [
    "### Task: Plan"
   ]
  },
  {
   "cell_type": "code",
   "execution_count": 7,
   "metadata": {
    "height": 268
   },
   "outputs": [],
   "source": [
    "plan = Task(\n",
    "    description=(\n",
    "        \"1. Prioritize the latest trends, key players, \"\n",
    "            \"and noteworthy news on {topic}.\\n\"\n",
    "        \"2. Identify the target audience, considering \"\n",
    "            \"their interests and pain points.\\n\"\n",
    "        \"3. Develop a detailed content outline including \"\n",
    "            \"an introduction, key points, and a call to action.\\n\"\n",
    "        \"4. Include SEO keywords and relevant data or sources.\"\n",
    "    ),\n",
    "    expected_output=\"A comprehensive content plan document \"\n",
    "        \"with an outline, audience analysis, \"\n",
    "        \"SEO keywords, and resources.\",\n",
    "    agent=planner,\n",
    ")"
   ]
  },
  {
   "cell_type": "markdown",
   "metadata": {},
   "source": [
    "### Task: Write"
   ]
  },
  {
   "cell_type": "code",
   "execution_count": 8,
   "metadata": {
    "height": 319
   },
   "outputs": [],
   "source": [
    "write = Task(\n",
    "    description=(\n",
    "        \"1. Use the content plan to craft a compelling \"\n",
    "            \"blog post on {topic}.\\n\"\n",
    "        \"2. Incorporate SEO keywords naturally.\\n\"\n",
    "\t\t\"3. Sections/Subtitles are properly named \"\n",
    "            \"in an engaging manner.\\n\"\n",
    "        \"4. Ensure the post is structured with an \"\n",
    "            \"engaging introduction, insightful body, \"\n",
    "            \"and a summarizing conclusion.\\n\"\n",
    "        \"5. Proofread for grammatical errors and \"\n",
    "            \"alignment with the brand's voice.\\n\"\n",
    "    ),\n",
    "    expected_output=\"A well-written blog post \"\n",
    "        \"in markdown format, ready for publication, \"\n",
    "        \"each section should have 2 or 3 paragraphs.\",\n",
    "    agent=writer,\n",
    ")"
   ]
  },
  {
   "cell_type": "markdown",
   "metadata": {},
   "source": [
    "### Task: Edit"
   ]
  },
  {
   "cell_type": "code",
   "execution_count": 9,
   "metadata": {
    "height": 166
   },
   "outputs": [],
   "source": [
    "edit = Task(\n",
    "    description=(\"Proofread the given blog post for \"\n",
    "                 \"grammatical errors and \"\n",
    "                 \"alignment with the brand's voice.\"),\n",
    "    expected_output=\"A well-written blog post in markdown format, \"\n",
    "                    \"ready for publication, \"\n",
    "                    \"each section should have 2 or 3 paragraphs.\",\n",
    "    agent=editor\n",
    ")"
   ]
  },
  {
   "cell_type": "markdown",
   "metadata": {},
   "source": [
    "## Creating the Crew\n",
    "\n",
    "- Create your crew of Agents\n",
    "- Pass the tasks to be performed by those agents.\n",
    "    - **Note**: *For this simple example*, the tasks will be performed sequentially (i.e they are dependent on each other), so the _order_ of the task in the list _matters_.\n",
    "- `verbose=2` allows you to see all the logs of the execution. "
   ]
  },
  {
   "cell_type": "code",
   "execution_count": 10,
   "metadata": {
    "height": 98
   },
   "outputs": [],
   "source": [
    "crew = Crew(\n",
    "    agents=[planner, writer, editor],\n",
    "    tasks=[plan, write, edit],\n",
    "    verbose=2\n",
    ")"
   ]
  },
  {
   "cell_type": "markdown",
   "metadata": {},
   "source": [
    "## Running the Crew"
   ]
  },
  {
   "cell_type": "markdown",
   "metadata": {},
   "source": [
    "**Note**: LLMs can provide different outputs for they same input, so what you get might be different than what you see in the video."
   ]
  },
  {
   "cell_type": "code",
   "execution_count": 11,
   "metadata": {
    "height": 30
   },
   "outputs": [
    {
     "name": "stdout",
     "output_type": "stream",
     "text": [
      "\u001b[1m\u001b[95m [DEBUG]: == Working Agent: Content Planner\u001b[00m\n",
      "\u001b[1m\u001b[95m [INFO]: == Starting Task: 1. Prioritize the latest trends, key players, and noteworthy news on Artificial Intelligence.\n",
      "2. Identify the target audience, considering their interests and pain points.\n",
      "3. Develop a detailed content outline including an introduction, key points, and a call to action.\n",
      "4. Include SEO keywords and relevant data or sources.\u001b[00m\n",
      "\n",
      "\n",
      "\u001b[1m> Entering new CrewAgentExecutor chain...\u001b[0m\n",
      "\u001b[32;1m\u001b[1;3mI now can give a great answer\n",
      "\n",
      "Final Answer:\n",
      "Content Plan: Artificial Intelligence\n",
      "\n",
      "1. Latest Trends, Key Players, and Noteworthy News on Artificial Intelligence:\n",
      "- Latest Trends:\n",
      "  - Advancements in deep learning algorithms\n",
      "  - Increased use of AI in healthcare and finance industries\n",
      "  - Ethical considerations in AI development and deployment\n",
      "- Key Players:\n",
      "  - Google DeepMind\n",
      "  - IBM Watson\n",
      "  - Amazon Web Services\n",
      "- Noteworthy News:\n",
      "  - Breakthroughs in natural language processing\n",
      "  - Implementation of AI in autonomous vehicles\n",
      "\n",
      "2. Target Audience Analysis:\n",
      "- Target Audience: Business professionals and tech enthusiasts\n",
      "- Interests: Latest technologies, AI applications in various industries, ethical implications of AI\n",
      "- Pain Points: Understanding complex AI concepts, staying updated on AI trends, finding reliable sources for AI information\n",
      "\n",
      "3. Content Outline:\n",
      "- Introduction:\n",
      "  - Definition of Artificial Intelligence\n",
      "  - Importance of AI in today's world\n",
      "- Key Points:\n",
      "  - Latest trends in AI\n",
      "  - Key players in the AI industry\n",
      "  - Noteworthy news in AI development\n",
      "  - Ethical considerations in AI\n",
      "- Call to Action:\n",
      "  - Encourage readers to stay informed on AI developments\n",
      "  - Provide resources for further reading on AI topics\n",
      "\n",
      "4. SEO Keywords and Relevant Data/Sources:\n",
      "- SEO Keywords: Artificial Intelligence, AI trends, AI news, AI companies, ethical AI\n",
      "- Relevant Data/Sources:\n",
      "  - Reports from Gartner and Forrester on AI trends\n",
      "  - Articles from Harvard Business Review and Wired on AI applications\n",
      "  - Research papers from leading AI researchers like Yoshua Bengio and Fei-Fei Li\n",
      "\n",
      "Overall, this content plan aims to provide a comprehensive overview of the latest trends, key players, and noteworthy news in the field of Artificial Intelligence, catering to a target audience of business professionals and tech enthusiasts. By incorporating SEO keywords and relevant data/sources, the blog article will be informative, engaging, and factually accurate.\u001b[0m\n",
      "\n",
      "\u001b[1m> Finished chain.\u001b[0m\n",
      "\u001b[1m\u001b[92m [DEBUG]: == [Content Planner] Task output: Content Plan: Artificial Intelligence\n",
      "\n",
      "1. Latest Trends, Key Players, and Noteworthy News on Artificial Intelligence:\n",
      "- Latest Trends:\n",
      "  - Advancements in deep learning algorithms\n",
      "  - Increased use of AI in healthcare and finance industries\n",
      "  - Ethical considerations in AI development and deployment\n",
      "- Key Players:\n",
      "  - Google DeepMind\n",
      "  - IBM Watson\n",
      "  - Amazon Web Services\n",
      "- Noteworthy News:\n",
      "  - Breakthroughs in natural language processing\n",
      "  - Implementation of AI in autonomous vehicles\n",
      "\n",
      "2. Target Audience Analysis:\n",
      "- Target Audience: Business professionals and tech enthusiasts\n",
      "- Interests: Latest technologies, AI applications in various industries, ethical implications of AI\n",
      "- Pain Points: Understanding complex AI concepts, staying updated on AI trends, finding reliable sources for AI information\n",
      "\n",
      "3. Content Outline:\n",
      "- Introduction:\n",
      "  - Definition of Artificial Intelligence\n",
      "  - Importance of AI in today's world\n",
      "- Key Points:\n",
      "  - Latest trends in AI\n",
      "  - Key players in the AI industry\n",
      "  - Noteworthy news in AI development\n",
      "  - Ethical considerations in AI\n",
      "- Call to Action:\n",
      "  - Encourage readers to stay informed on AI developments\n",
      "  - Provide resources for further reading on AI topics\n",
      "\n",
      "4. SEO Keywords and Relevant Data/Sources:\n",
      "- SEO Keywords: Artificial Intelligence, AI trends, AI news, AI companies, ethical AI\n",
      "- Relevant Data/Sources:\n",
      "  - Reports from Gartner and Forrester on AI trends\n",
      "  - Articles from Harvard Business Review and Wired on AI applications\n",
      "  - Research papers from leading AI researchers like Yoshua Bengio and Fei-Fei Li\n",
      "\n",
      "Overall, this content plan aims to provide a comprehensive overview of the latest trends, key players, and noteworthy news in the field of Artificial Intelligence, catering to a target audience of business professionals and tech enthusiasts. By incorporating SEO keywords and relevant data/sources, the blog article will be informative, engaging, and factually accurate.\n",
      "\n",
      "\u001b[00m\n",
      "\u001b[1m\u001b[95m [DEBUG]: == Working Agent: Content Writer\u001b[00m\n",
      "\u001b[1m\u001b[95m [INFO]: == Starting Task: 1. Use the content plan to craft a compelling blog post on Artificial Intelligence.\n",
      "2. Incorporate SEO keywords naturally.\n",
      "3. Sections/Subtitles are properly named in an engaging manner.\n",
      "4. Ensure the post is structured with an engaging introduction, insightful body, and a summarizing conclusion.\n",
      "5. Proofread for grammatical errors and alignment with the brand's voice.\n",
      "\u001b[00m\n",
      "\n",
      "\n",
      "\u001b[1m> Entering new CrewAgentExecutor chain...\u001b[0m\n",
      "\u001b[32;1m\u001b[1;3mArtificial Intelligence (AI) is a rapidly evolving field that has the potential to revolutionize various industries. With advancements in deep learning algorithms, increased use of AI in healthcare and finance, and ethical considerations surrounding AI development, the landscape of AI is constantly changing. Key players like Google DeepMind, IBM Watson, and Amazon Web Services are driving innovation in the industry, while breakthroughs in natural language processing and the implementation of AI in autonomous vehicles are shaping the future of technology.\n",
      "\n",
      "Targeting business professionals and tech enthusiasts, this blog post will delve into the latest trends, key players, and noteworthy news in the world of AI. From defining AI and highlighting its importance in today's world to discussing the ethical implications of AI, this piece aims to provide a comprehensive overview of the field. By incorporating SEO keywords such as Artificial Intelligence, AI trends, AI news, AI companies, and ethical AI, the content will be optimized for search engines and reach a wider audience.\n",
      "\n",
      "With data and sources from reports by Gartner and Forrester, articles from prestigious publications like Harvard Business Review and Wired, and research papers from leading AI researchers like Yoshua Bengio and Fei-Fei Li, this blog post will be informative, engaging, and factually accurate. The call to action will encourage readers to stay informed on AI developments and provide resources for further reading on AI topics. By structuring the post with an engaging introduction, insightful body, and summarizing conclusion, this piece will offer valuable insights into the world of Artificial Intelligence.\n",
      "\n",
      "Final Answer:\n",
      "\n",
      "# The Future of Artificial Intelligence: Trends, Players, and News\n",
      "\n",
      "## Introduction\n",
      "Artificial Intelligence (AI) is no longer a futuristic concept but a present reality shaping various industries. Defined as the simulation of human intelligence processes by machines, AI plays a crucial role in today's world. From powering virtual assistants to driving autonomous vehicles, the impact of AI is undeniable. This blog post explores the latest trends, key players, and noteworthy news in the field of Artificial Intelligence, catering to business professionals and tech enthusiasts.\n",
      "\n",
      "## Latest Trends in AI\n",
      "The field of AI is constantly evolving, with advancements in deep learning algorithms leading the way. From improving speech recognition to enhancing image recognition, these developments are transforming how AI systems operate. Moreover, the increased use of AI in healthcare and finance industries is revolutionizing patient care and financial services. However, as AI becomes more prevalent, ethical considerations in its development and deployment are becoming increasingly important.\n",
      "\n",
      "## Key Players in the AI Industry\n",
      "Several companies are at the forefront of AI innovation, shaping the industry's trajectory. Google DeepMind, known for its groundbreaking work in deep learning, is pushing the boundaries of AI research. IBM Watson, with its cognitive computing capabilities, is revolutionizing industries like healthcare and finance. Amazon Web Services is also a key player, offering AI services to businesses looking to integrate AI into their operations.\n",
      "\n",
      "## Noteworthy News in AI Development\n",
      "Recent breakthroughs in natural language processing have made it easier for machines to understand and generate human language. Furthermore, the implementation of AI in autonomous vehicles is paving the way for safer and more efficient transportation systems. These advancements highlight the potential of AI to improve various aspects of our lives and society as a whole.\n",
      "\n",
      "## Ethical Considerations in AI\n",
      "As AI technologies become more advanced, ethical considerations surrounding their development and deployment are paramount. Issues like bias in AI algorithms, data privacy concerns, and the impact of AI on job displacement require careful consideration. It is crucial for companies and researchers to address these ethical challenges to ensure that AI benefits society as a whole.\n",
      "\n",
      "## Conclusion\n",
      "In conclusion, Artificial Intelligence is a dynamic field with immense potential for growth and innovation. By staying informed on the latest trends, key players, and noteworthy news in AI, business professionals and tech enthusiasts can better understand the impact of AI on various industries. As AI continues to evolve, it is essential to consider the ethical implications of its development and deployment. By embracing AI responsibly, we can harness its power to drive positive change in the world.\u001b[0m\n",
      "\n",
      "\u001b[1m> Finished chain.\u001b[0m\n",
      "\u001b[1m\u001b[92m [DEBUG]: == [Content Writer] Task output: # The Future of Artificial Intelligence: Trends, Players, and News\n",
      "\n",
      "## Introduction\n",
      "Artificial Intelligence (AI) is no longer a futuristic concept but a present reality shaping various industries. Defined as the simulation of human intelligence processes by machines, AI plays a crucial role in today's world. From powering virtual assistants to driving autonomous vehicles, the impact of AI is undeniable. This blog post explores the latest trends, key players, and noteworthy news in the field of Artificial Intelligence, catering to business professionals and tech enthusiasts.\n",
      "\n",
      "## Latest Trends in AI\n",
      "The field of AI is constantly evolving, with advancements in deep learning algorithms leading the way. From improving speech recognition to enhancing image recognition, these developments are transforming how AI systems operate. Moreover, the increased use of AI in healthcare and finance industries is revolutionizing patient care and financial services. However, as AI becomes more prevalent, ethical considerations in its development and deployment are becoming increasingly important.\n",
      "\n",
      "## Key Players in the AI Industry\n",
      "Several companies are at the forefront of AI innovation, shaping the industry's trajectory. Google DeepMind, known for its groundbreaking work in deep learning, is pushing the boundaries of AI research. IBM Watson, with its cognitive computing capabilities, is revolutionizing industries like healthcare and finance. Amazon Web Services is also a key player, offering AI services to businesses looking to integrate AI into their operations.\n",
      "\n",
      "## Noteworthy News in AI Development\n",
      "Recent breakthroughs in natural language processing have made it easier for machines to understand and generate human language. Furthermore, the implementation of AI in autonomous vehicles is paving the way for safer and more efficient transportation systems. These advancements highlight the potential of AI to improve various aspects of our lives and society as a whole.\n",
      "\n",
      "## Ethical Considerations in AI\n",
      "As AI technologies become more advanced, ethical considerations surrounding their development and deployment are paramount. Issues like bias in AI algorithms, data privacy concerns, and the impact of AI on job displacement require careful consideration. It is crucial for companies and researchers to address these ethical challenges to ensure that AI benefits society as a whole.\n",
      "\n",
      "## Conclusion\n",
      "In conclusion, Artificial Intelligence is a dynamic field with immense potential for growth and innovation. By staying informed on the latest trends, key players, and noteworthy news in AI, business professionals and tech enthusiasts can better understand the impact of AI on various industries. As AI continues to evolve, it is essential to consider the ethical implications of its development and deployment. By embracing AI responsibly, we can harness its power to drive positive change in the world.\n",
      "\n",
      "\u001b[00m\n",
      "\u001b[1m\u001b[95m [DEBUG]: == Working Agent: Editor\u001b[00m\n",
      "\u001b[1m\u001b[95m [INFO]: == Starting Task: Proofread the given blog post for grammatical errors and alignment with the brand's voice.\u001b[00m\n",
      "\n",
      "\n",
      "\u001b[1m> Entering new CrewAgentExecutor chain...\u001b[0m\n"
     ]
    },
    {
     "name": "stdout",
     "output_type": "stream",
     "text": [
      "\u001b[32;1m\u001b[1;3mI now can give a great answer\n",
      "\n",
      "Final Answer:\n",
      "# The Future of Artificial Intelligence: Trends, Players, and News\n",
      "\n",
      "## Introduction\n",
      "Artificial Intelligence (AI) has transitioned from a futuristic concept to a present-day reality that is reshaping numerous industries. Defined as the simulation of human intelligence processes by machines, AI plays a pivotal role in today's society. From enabling virtual assistants to powering autonomous vehicles, the influence of AI is undeniable. This blog post delves into the latest trends, key players, and significant news within the realm of Artificial Intelligence, catering to both business professionals and tech enthusiasts.\n",
      "\n",
      "## Latest Trends in AI\n",
      "The landscape of AI is constantly evolving, with advancements in deep learning algorithms leading the way. Progress in speech recognition and image processing is transforming the functionality of AI systems. Additionally, the growing integration of AI in healthcare and finance sectors is revolutionizing patient care and financial services. However, as AI becomes more ubiquitous, ethical considerations in its development and implementation are gaining prominence.\n",
      "\n",
      "## Key Players in the AI Industry\n",
      "Numerous companies are driving innovation in the AI sector, shaping its trajectory. Google DeepMind, renowned for its pioneering work in deep learning, is pushing the boundaries of AI research. IBM Watson, equipped with cognitive computing capabilities, is making significant strides in sectors such as healthcare and finance. Amazon Web Services also stands out as a key player, providing AI services to businesses seeking to incorporate AI into their operations.\n",
      "\n",
      "## Noteworthy News in AI Development\n",
      "Recent advancements in natural language processing have simplified the interaction between machines and human language. Furthermore, the integration of AI in autonomous vehicles is paving the way for safer and more efficient transportation systems. These breakthroughs underscore AI's potential to enhance various facets of our lives and society as a whole.\n",
      "\n",
      "## Ethical Considerations in AI\n",
      "As AI technologies progress, ethical considerations surrounding their development and deployment are of utmost importance. The presence of bias in AI algorithms, concerns regarding data privacy, and the potential impact of AI on job displacement necessitate thoughtful deliberation. It is imperative for companies and researchers to address these ethical challenges to ensure that AI contributes positively to society.\n",
      "\n",
      "## Conclusion\n",
      "In summary, Artificial Intelligence presents a dynamic landscape with vast potential for growth and innovation. By staying abreast of the latest trends, key players, and significant news in AI, business professionals and tech enthusiasts can gain insight into the impact of AI across various industries. As AI continues to evolve, it is crucial to consider the ethical implications of its advancement and deployment. Embracing AI responsibly enables us to harness its transformative power for the betterment of the world.\u001b[0m\n",
      "\n",
      "\u001b[1m> Finished chain.\u001b[0m\n",
      "\u001b[1m\u001b[92m [DEBUG]: == [Editor] Task output: # The Future of Artificial Intelligence: Trends, Players, and News\n",
      "\n",
      "## Introduction\n",
      "Artificial Intelligence (AI) has transitioned from a futuristic concept to a present-day reality that is reshaping numerous industries. Defined as the simulation of human intelligence processes by machines, AI plays a pivotal role in today's society. From enabling virtual assistants to powering autonomous vehicles, the influence of AI is undeniable. This blog post delves into the latest trends, key players, and significant news within the realm of Artificial Intelligence, catering to both business professionals and tech enthusiasts.\n",
      "\n",
      "## Latest Trends in AI\n",
      "The landscape of AI is constantly evolving, with advancements in deep learning algorithms leading the way. Progress in speech recognition and image processing is transforming the functionality of AI systems. Additionally, the growing integration of AI in healthcare and finance sectors is revolutionizing patient care and financial services. However, as AI becomes more ubiquitous, ethical considerations in its development and implementation are gaining prominence.\n",
      "\n",
      "## Key Players in the AI Industry\n",
      "Numerous companies are driving innovation in the AI sector, shaping its trajectory. Google DeepMind, renowned for its pioneering work in deep learning, is pushing the boundaries of AI research. IBM Watson, equipped with cognitive computing capabilities, is making significant strides in sectors such as healthcare and finance. Amazon Web Services also stands out as a key player, providing AI services to businesses seeking to incorporate AI into their operations.\n",
      "\n",
      "## Noteworthy News in AI Development\n",
      "Recent advancements in natural language processing have simplified the interaction between machines and human language. Furthermore, the integration of AI in autonomous vehicles is paving the way for safer and more efficient transportation systems. These breakthroughs underscore AI's potential to enhance various facets of our lives and society as a whole.\n",
      "\n",
      "## Ethical Considerations in AI\n",
      "As AI technologies progress, ethical considerations surrounding their development and deployment are of utmost importance. The presence of bias in AI algorithms, concerns regarding data privacy, and the potential impact of AI on job displacement necessitate thoughtful deliberation. It is imperative for companies and researchers to address these ethical challenges to ensure that AI contributes positively to society.\n",
      "\n",
      "## Conclusion\n",
      "In summary, Artificial Intelligence presents a dynamic landscape with vast potential for growth and innovation. By staying abreast of the latest trends, key players, and significant news in AI, business professionals and tech enthusiasts can gain insight into the impact of AI across various industries. As AI continues to evolve, it is crucial to consider the ethical implications of its advancement and deployment. Embracing AI responsibly enables us to harness its transformative power for the betterment of the world.\n",
      "\n",
      "\u001b[00m\n"
     ]
    }
   ],
   "source": [
    "result = crew.kickoff(inputs={\"topic\": \"Artificial Intelligence\"})"
   ]
  },
  {
   "cell_type": "markdown",
   "metadata": {},
   "source": [
    "- Display the results of your execution as markdown in the notebook."
   ]
  },
  {
   "cell_type": "code",
   "execution_count": 12,
   "metadata": {
    "height": 47
   },
   "outputs": [
    {
     "data": {
      "text/markdown": [
       "# The Future of Artificial Intelligence: Trends, Players, and News\n",
       "\n",
       "## Introduction\n",
       "Artificial Intelligence (AI) has transitioned from a futuristic concept to a present-day reality that is reshaping numerous industries. Defined as the simulation of human intelligence processes by machines, AI plays a pivotal role in today's society. From enabling virtual assistants to powering autonomous vehicles, the influence of AI is undeniable. This blog post delves into the latest trends, key players, and significant news within the realm of Artificial Intelligence, catering to both business professionals and tech enthusiasts.\n",
       "\n",
       "## Latest Trends in AI\n",
       "The landscape of AI is constantly evolving, with advancements in deep learning algorithms leading the way. Progress in speech recognition and image processing is transforming the functionality of AI systems. Additionally, the growing integration of AI in healthcare and finance sectors is revolutionizing patient care and financial services. However, as AI becomes more ubiquitous, ethical considerations in its development and implementation are gaining prominence.\n",
       "\n",
       "## Key Players in the AI Industry\n",
       "Numerous companies are driving innovation in the AI sector, shaping its trajectory. Google DeepMind, renowned for its pioneering work in deep learning, is pushing the boundaries of AI research. IBM Watson, equipped with cognitive computing capabilities, is making significant strides in sectors such as healthcare and finance. Amazon Web Services also stands out as a key player, providing AI services to businesses seeking to incorporate AI into their operations.\n",
       "\n",
       "## Noteworthy News in AI Development\n",
       "Recent advancements in natural language processing have simplified the interaction between machines and human language. Furthermore, the integration of AI in autonomous vehicles is paving the way for safer and more efficient transportation systems. These breakthroughs underscore AI's potential to enhance various facets of our lives and society as a whole.\n",
       "\n",
       "## Ethical Considerations in AI\n",
       "As AI technologies progress, ethical considerations surrounding their development and deployment are of utmost importance. The presence of bias in AI algorithms, concerns regarding data privacy, and the potential impact of AI on job displacement necessitate thoughtful deliberation. It is imperative for companies and researchers to address these ethical challenges to ensure that AI contributes positively to society.\n",
       "\n",
       "## Conclusion\n",
       "In summary, Artificial Intelligence presents a dynamic landscape with vast potential for growth and innovation. By staying abreast of the latest trends, key players, and significant news in AI, business professionals and tech enthusiasts can gain insight into the impact of AI across various industries. As AI continues to evolve, it is crucial to consider the ethical implications of its advancement and deployment. Embracing AI responsibly enables us to harness its transformative power for the betterment of the world."
      ],
      "text/plain": [
       "<IPython.core.display.Markdown object>"
      ]
     },
     "execution_count": 12,
     "metadata": {},
     "output_type": "execute_result"
    }
   ],
   "source": [
    "from IPython.display import Markdown\n",
    "Markdown(result)"
   ]
  },
  {
   "cell_type": "markdown",
   "metadata": {},
   "source": [
    "## Try it Yourself\n",
    "\n",
    "- Pass in a topic of your choice and see what the agents come up with!"
   ]
  },
  {
   "cell_type": "code",
   "execution_count": 13,
   "metadata": {
    "height": 47
   },
   "outputs": [
    {
     "name": "stdout",
     "output_type": "stream",
     "text": [
      "\u001b[1m\u001b[95m [DEBUG]: == Working Agent: Content Planner\u001b[00m\n",
      "\u001b[1m\u001b[95m [INFO]: == Starting Task: 1. Prioritize the latest trends, key players, and noteworthy news on YOUR TOPIC HERE.\n",
      "2. Identify the target audience, considering their interests and pain points.\n",
      "3. Develop a detailed content outline including an introduction, key points, and a call to action.\n",
      "4. Include SEO keywords and relevant data or sources.\u001b[00m\n",
      "\n",
      "\n",
      "\u001b[1m> Entering new CrewAgentExecutor chain...\u001b[0m\n",
      "\u001b[32;1m\u001b[1;3mI now can give a great answer\n",
      "\n",
      "Final Answer: \n",
      "\n",
      "Content Plan: \n",
      "Topic: The Impact of Social Media on Mental Health\n",
      "\n",
      "1. Latest Trends, Key Players, and Noteworthy News:\n",
      "- Latest Trends: The rise of mental health awareness on social media platforms, increased scrutiny on social media companies for their impact on mental health, and the use of social media for mental health advocacy.\n",
      "- Key Players: Mental health professionals, social media platforms, mental health advocates, and researchers studying the link between social media and mental health.\n",
      "- Noteworthy News: Recent studies showing the negative effects of excessive social media use on mental health, new features implemented by social media platforms to promote mental well-being, and government regulations related to social media and mental health.\n",
      "\n",
      "2. Target Audience Analysis:\n",
      "- Target Audience: Young adults aged 18-35 who are active users of social media.\n",
      "- Interests: Mental health awareness, social media trends, self-care practices, and technology's impact on well-being.\n",
      "- Pain Points: Feeling overwhelmed by social media, experiencing anxiety or depression related to social media use, and seeking information on how to maintain a healthy relationship with social media.\n",
      "\n",
      "3. Content Outline:\n",
      "- Introduction: Discuss the increasing role of social media in our daily lives and its impact on mental health.\n",
      "- Key Points:\n",
      "  1. The positive and negative effects of social media on mental health.\n",
      "  2. Tips for managing social media use and promoting mental well-being.\n",
      "  3. Case studies or personal stories illustrating the link between social media and mental health.\n",
      "- Call to Action: Encourage readers to reflect on their social media habits, seek professional help if needed, and engage in offline activities that promote mental well-being.\n",
      "\n",
      "4. SEO Keywords and Relevant Data:\n",
      "- SEO Keywords: social media and mental health, mental health awareness online, effects of social media on well-being, social media usage and mental health, mental health advocacy on social media.\n",
      "- Relevant Data: Statistics on social media usage among young adults, research findings on the impact of social media on mental health, and expert opinions from mental health professionals.\n",
      "\n",
      "Resources:\n",
      "1. \"The Social Dilemma\" documentary on Netflix\n",
      "2. National Alliance on Mental Illness (NAMI) website\n",
      "3. Pew Research Center reports on social media trends\n",
      "4. Articles from reputable sources such as Harvard Health Publishing and Psychology Today\n",
      "\n",
      "By following this comprehensive content plan, we aim to provide valuable insights and practical tips for our target audience on navigating the complex relationship between social media and mental health.\u001b[0m\n",
      "\n",
      "\u001b[1m> Finished chain.\u001b[0m\n",
      "\u001b[1m\u001b[92m [DEBUG]: == [Content Planner] Task output: Content Plan: \n",
      "Topic: The Impact of Social Media on Mental Health\n",
      "\n",
      "1. Latest Trends, Key Players, and Noteworthy News:\n",
      "- Latest Trends: The rise of mental health awareness on social media platforms, increased scrutiny on social media companies for their impact on mental health, and the use of social media for mental health advocacy.\n",
      "- Key Players: Mental health professionals, social media platforms, mental health advocates, and researchers studying the link between social media and mental health.\n",
      "- Noteworthy News: Recent studies showing the negative effects of excessive social media use on mental health, new features implemented by social media platforms to promote mental well-being, and government regulations related to social media and mental health.\n",
      "\n",
      "2. Target Audience Analysis:\n",
      "- Target Audience: Young adults aged 18-35 who are active users of social media.\n",
      "- Interests: Mental health awareness, social media trends, self-care practices, and technology's impact on well-being.\n",
      "- Pain Points: Feeling overwhelmed by social media, experiencing anxiety or depression related to social media use, and seeking information on how to maintain a healthy relationship with social media.\n",
      "\n",
      "3. Content Outline:\n",
      "- Introduction: Discuss the increasing role of social media in our daily lives and its impact on mental health.\n",
      "- Key Points:\n",
      "  1. The positive and negative effects of social media on mental health.\n",
      "  2. Tips for managing social media use and promoting mental well-being.\n",
      "  3. Case studies or personal stories illustrating the link between social media and mental health.\n",
      "- Call to Action: Encourage readers to reflect on their social media habits, seek professional help if needed, and engage in offline activities that promote mental well-being.\n",
      "\n",
      "4. SEO Keywords and Relevant Data:\n",
      "- SEO Keywords: social media and mental health, mental health awareness online, effects of social media on well-being, social media usage and mental health, mental health advocacy on social media.\n",
      "- Relevant Data: Statistics on social media usage among young adults, research findings on the impact of social media on mental health, and expert opinions from mental health professionals.\n",
      "\n",
      "Resources:\n",
      "1. \"The Social Dilemma\" documentary on Netflix\n",
      "2. National Alliance on Mental Illness (NAMI) website\n",
      "3. Pew Research Center reports on social media trends\n",
      "4. Articles from reputable sources such as Harvard Health Publishing and Psychology Today\n",
      "\n",
      "By following this comprehensive content plan, we aim to provide valuable insights and practical tips for our target audience on navigating the complex relationship between social media and mental health.\n",
      "\n",
      "\u001b[00m\n",
      "\u001b[1m\u001b[95m [DEBUG]: == Working Agent: Content Writer\u001b[00m\n",
      "\u001b[1m\u001b[95m [INFO]: == Starting Task: 1. Use the content plan to craft a compelling blog post on YOUR TOPIC HERE.\n",
      "2. Incorporate SEO keywords naturally.\n",
      "3. Sections/Subtitles are properly named in an engaging manner.\n",
      "4. Ensure the post is structured with an engaging introduction, insightful body, and a summarizing conclusion.\n",
      "5. Proofread for grammatical errors and alignment with the brand's voice.\n",
      "\u001b[00m\n",
      "\n",
      "\n",
      "\u001b[1m> Entering new CrewAgentExecutor chain...\u001b[0m\n",
      "\u001b[32;1m\u001b[1;3mI now can give a great answer\n",
      "\n",
      "Final Answer:\n",
      "\n",
      "# The Impact of Social Media on Mental Health\n",
      "\n",
      "## Introduction\n",
      "In today's digital age, social media plays a significant role in shaping our daily lives, influencing our thoughts, behaviors, and emotions. While social media platforms offer unprecedented connectivity and opportunities for self-expression, there is a growing concern about their impact on mental health. The rise of mental health awareness on social media platforms has shed light on the importance of addressing the negative effects of excessive social media use. This blog post will delve into the complex relationship between social media and mental health, exploring both the positive and negative aspects while providing tips for promoting mental well-being in the digital age.\n",
      "\n",
      "## The Positive and Negative Effects of Social Media on Mental Health\n",
      "On one hand, social media has the power to connect individuals from across the globe, provide a platform for self-expression, and raise awareness about mental health issues. However, the constant exposure to curated images, unrealistic standards, and cyberbullying on social media can take a toll on one's mental well-being. Recent studies have shown a correlation between excessive social media use and increased feelings of loneliness, anxiety, and depression among young adults. It is crucial to strike a balance between staying connected online and prioritizing one's mental health offline.\n",
      "\n",
      "## Tips for Managing Social Media Use and Promoting Mental Well-being\n",
      "To mitigate the negative impact of social media on mental health, it is essential to practice mindfulness and set boundaries when engaging with online platforms. Limiting screen time, unfollowing accounts that trigger negative emotions, and engaging in offline activities that promote well-being are effective strategies for maintaining a healthy relationship with social media. Mental health professionals, social media platforms, and mental health advocates are working together to implement new features that prioritize users' mental well-being, such as digital well-being tools and mental health resources integrated into social media platforms.\n",
      "\n",
      "## Call to Action\n",
      "As active users of social media, it is crucial for young adults aged 18-35 to reflect on their social media habits and prioritize their mental health. Seeking professional help when needed, engaging in self-care practices, and fostering offline connections are essential steps in promoting mental well-being in the digital age. By raising awareness about the impact of social media on mental health and taking proactive steps to protect our well-being, we can create a healthier and more balanced relationship with social media.\n",
      "\n",
      "In conclusion, the intersection of social media and mental health is a complex and evolving landscape that requires thoughtful consideration and proactive measures. By being mindful of our online behaviors, seeking support when needed, and engaging in offline activities that nourish our well-being, we can navigate the digital world with greater resilience and self-awareness. Let us strive to create a digital environment that promotes mental health and fosters positive connections among individuals.\u001b[0m\n",
      "\n",
      "\u001b[1m> Finished chain.\u001b[0m\n",
      "\u001b[1m\u001b[92m [DEBUG]: == [Content Writer] Task output: # The Impact of Social Media on Mental Health\n",
      "\n",
      "## Introduction\n",
      "In today's digital age, social media plays a significant role in shaping our daily lives, influencing our thoughts, behaviors, and emotions. While social media platforms offer unprecedented connectivity and opportunities for self-expression, there is a growing concern about their impact on mental health. The rise of mental health awareness on social media platforms has shed light on the importance of addressing the negative effects of excessive social media use. This blog post will delve into the complex relationship between social media and mental health, exploring both the positive and negative aspects while providing tips for promoting mental well-being in the digital age.\n",
      "\n",
      "## The Positive and Negative Effects of Social Media on Mental Health\n",
      "On one hand, social media has the power to connect individuals from across the globe, provide a platform for self-expression, and raise awareness about mental health issues. However, the constant exposure to curated images, unrealistic standards, and cyberbullying on social media can take a toll on one's mental well-being. Recent studies have shown a correlation between excessive social media use and increased feelings of loneliness, anxiety, and depression among young adults. It is crucial to strike a balance between staying connected online and prioritizing one's mental health offline.\n",
      "\n",
      "## Tips for Managing Social Media Use and Promoting Mental Well-being\n",
      "To mitigate the negative impact of social media on mental health, it is essential to practice mindfulness and set boundaries when engaging with online platforms. Limiting screen time, unfollowing accounts that trigger negative emotions, and engaging in offline activities that promote well-being are effective strategies for maintaining a healthy relationship with social media. Mental health professionals, social media platforms, and mental health advocates are working together to implement new features that prioritize users' mental well-being, such as digital well-being tools and mental health resources integrated into social media platforms.\n",
      "\n",
      "## Call to Action\n",
      "As active users of social media, it is crucial for young adults aged 18-35 to reflect on their social media habits and prioritize their mental health. Seeking professional help when needed, engaging in self-care practices, and fostering offline connections are essential steps in promoting mental well-being in the digital age. By raising awareness about the impact of social media on mental health and taking proactive steps to protect our well-being, we can create a healthier and more balanced relationship with social media.\n",
      "\n",
      "In conclusion, the intersection of social media and mental health is a complex and evolving landscape that requires thoughtful consideration and proactive measures. By being mindful of our online behaviors, seeking support when needed, and engaging in offline activities that nourish our well-being, we can navigate the digital world with greater resilience and self-awareness. Let us strive to create a digital environment that promotes mental health and fosters positive connections among individuals.\n",
      "\n",
      "\u001b[00m\n",
      "\u001b[1m\u001b[95m [DEBUG]: == Working Agent: Editor\u001b[00m\n",
      "\u001b[1m\u001b[95m [INFO]: == Starting Task: Proofread the given blog post for grammatical errors and alignment with the brand's voice.\u001b[00m\n",
      "\n",
      "\n",
      "\u001b[1m> Entering new CrewAgentExecutor chain...\u001b[0m\n"
     ]
    },
    {
     "name": "stdout",
     "output_type": "stream",
     "text": [
      "\u001b[32;1m\u001b[1;3mI now can give a great answer\n",
      "\n",
      "Final Answer:\n",
      "# The Impact of Social Media on Mental Health\n",
      "\n",
      "## Introduction\n",
      "In today's digital age, social media plays a significant role in shaping our daily lives, influencing our thoughts, behaviors, and emotions. While social media platforms offer unprecedented connectivity and opportunities for self-expression, there is a growing concern about their impact on mental health. The rise of mental health awareness on social media platforms has shed light on the importance of addressing the negative effects of excessive social media use. This blog post will delve into the complex relationship between social media and mental health, exploring both the positive and negative aspects while providing tips for promoting mental well-being in the digital age.\n",
      "\n",
      "## The Positive and Negative Effects of Social Media on Mental Health\n",
      "On one hand, social media has the power to connect individuals from across the globe, provide a platform for self-expression, and raise awareness about mental health issues. However, the constant exposure to curated images, unrealistic standards, and cyberbullying on social media can take a toll on one's mental well-being. Recent studies have shown a correlation between excessive social media use and increased feelings of loneliness, anxiety, and depression among young adults. It is crucial to strike a balance between staying connected online and prioritizing one's mental health offline.\n",
      "\n",
      "## Tips for Managing Social Media Use and Promoting Mental Well-being\n",
      "To mitigate the negative impact of social media on mental health, it is essential to practice mindfulness and set boundaries when engaging with online platforms. Limiting screen time, unfollowing accounts that trigger negative emotions, and engaging in offline activities that promote well-being are effective strategies for maintaining a healthy relationship with social media. Mental health professionals, social media platforms, and mental health advocates are working together to implement new features that prioritize users' mental well-being, such as digital well-being tools and mental health resources integrated into social media platforms.\n",
      "\n",
      "## Call to Action\n",
      "As active users of social media, it is crucial for young adults aged 18-35 to reflect on their social media habits and prioritize their mental health. Seeking professional help when needed, engaging in self-care practices, and fostering offline connections are essential steps in promoting mental well-being in the digital age. By raising awareness about the impact of social media on mental health and taking proactive steps to protect our well-being, we can create a healthier and more balanced relationship with social media.\n",
      "\n",
      "In conclusion, the intersection of social media and mental health is a complex and evolving landscape that requires thoughtful consideration and proactive measures. By being mindful of our online behaviors, seeking support when needed, and engaging in offline activities that nourish our well-being, we can navigate the digital world with greater resilience and self-awareness. Let us strive to create a digital environment that promotes mental health and fosters positive connections among individuals.\u001b[0m\n",
      "\n",
      "\u001b[1m> Finished chain.\u001b[0m\n",
      "\u001b[1m\u001b[92m [DEBUG]: == [Editor] Task output: # The Impact of Social Media on Mental Health\n",
      "\n",
      "## Introduction\n",
      "In today's digital age, social media plays a significant role in shaping our daily lives, influencing our thoughts, behaviors, and emotions. While social media platforms offer unprecedented connectivity and opportunities for self-expression, there is a growing concern about their impact on mental health. The rise of mental health awareness on social media platforms has shed light on the importance of addressing the negative effects of excessive social media use. This blog post will delve into the complex relationship between social media and mental health, exploring both the positive and negative aspects while providing tips for promoting mental well-being in the digital age.\n",
      "\n",
      "## The Positive and Negative Effects of Social Media on Mental Health\n",
      "On one hand, social media has the power to connect individuals from across the globe, provide a platform for self-expression, and raise awareness about mental health issues. However, the constant exposure to curated images, unrealistic standards, and cyberbullying on social media can take a toll on one's mental well-being. Recent studies have shown a correlation between excessive social media use and increased feelings of loneliness, anxiety, and depression among young adults. It is crucial to strike a balance between staying connected online and prioritizing one's mental health offline.\n",
      "\n",
      "## Tips for Managing Social Media Use and Promoting Mental Well-being\n",
      "To mitigate the negative impact of social media on mental health, it is essential to practice mindfulness and set boundaries when engaging with online platforms. Limiting screen time, unfollowing accounts that trigger negative emotions, and engaging in offline activities that promote well-being are effective strategies for maintaining a healthy relationship with social media. Mental health professionals, social media platforms, and mental health advocates are working together to implement new features that prioritize users' mental well-being, such as digital well-being tools and mental health resources integrated into social media platforms.\n",
      "\n",
      "## Call to Action\n",
      "As active users of social media, it is crucial for young adults aged 18-35 to reflect on their social media habits and prioritize their mental health. Seeking professional help when needed, engaging in self-care practices, and fostering offline connections are essential steps in promoting mental well-being in the digital age. By raising awareness about the impact of social media on mental health and taking proactive steps to protect our well-being, we can create a healthier and more balanced relationship with social media.\n",
      "\n",
      "In conclusion, the intersection of social media and mental health is a complex and evolving landscape that requires thoughtful consideration and proactive measures. By being mindful of our online behaviors, seeking support when needed, and engaging in offline activities that nourish our well-being, we can navigate the digital world with greater resilience and self-awareness. Let us strive to create a digital environment that promotes mental health and fosters positive connections among individuals.\n",
      "\n",
      "\u001b[00m\n"
     ]
    }
   ],
   "source": [
    "topic = \"YOUR TOPIC HERE\"\n",
    "result = crew.kickoff(inputs={\"topic\": topic})"
   ]
  },
  {
   "cell_type": "code",
   "execution_count": 14,
   "metadata": {
    "height": 30
   },
   "outputs": [
    {
     "data": {
      "text/markdown": [
       "# The Impact of Social Media on Mental Health\n",
       "\n",
       "## Introduction\n",
       "In today's digital age, social media plays a significant role in shaping our daily lives, influencing our thoughts, behaviors, and emotions. While social media platforms offer unprecedented connectivity and opportunities for self-expression, there is a growing concern about their impact on mental health. The rise of mental health awareness on social media platforms has shed light on the importance of addressing the negative effects of excessive social media use. This blog post will delve into the complex relationship between social media and mental health, exploring both the positive and negative aspects while providing tips for promoting mental well-being in the digital age.\n",
       "\n",
       "## The Positive and Negative Effects of Social Media on Mental Health\n",
       "On one hand, social media has the power to connect individuals from across the globe, provide a platform for self-expression, and raise awareness about mental health issues. However, the constant exposure to curated images, unrealistic standards, and cyberbullying on social media can take a toll on one's mental well-being. Recent studies have shown a correlation between excessive social media use and increased feelings of loneliness, anxiety, and depression among young adults. It is crucial to strike a balance between staying connected online and prioritizing one's mental health offline.\n",
       "\n",
       "## Tips for Managing Social Media Use and Promoting Mental Well-being\n",
       "To mitigate the negative impact of social media on mental health, it is essential to practice mindfulness and set boundaries when engaging with online platforms. Limiting screen time, unfollowing accounts that trigger negative emotions, and engaging in offline activities that promote well-being are effective strategies for maintaining a healthy relationship with social media. Mental health professionals, social media platforms, and mental health advocates are working together to implement new features that prioritize users' mental well-being, such as digital well-being tools and mental health resources integrated into social media platforms.\n",
       "\n",
       "## Call to Action\n",
       "As active users of social media, it is crucial for young adults aged 18-35 to reflect on their social media habits and prioritize their mental health. Seeking professional help when needed, engaging in self-care practices, and fostering offline connections are essential steps in promoting mental well-being in the digital age. By raising awareness about the impact of social media on mental health and taking proactive steps to protect our well-being, we can create a healthier and more balanced relationship with social media.\n",
       "\n",
       "In conclusion, the intersection of social media and mental health is a complex and evolving landscape that requires thoughtful consideration and proactive measures. By being mindful of our online behaviors, seeking support when needed, and engaging in offline activities that nourish our well-being, we can navigate the digital world with greater resilience and self-awareness. Let us strive to create a digital environment that promotes mental health and fosters positive connections among individuals."
      ],
      "text/plain": [
       "<IPython.core.display.Markdown object>"
      ]
     },
     "execution_count": 14,
     "metadata": {},
     "output_type": "execute_result"
    }
   ],
   "source": [
    "Markdown(result)"
   ]
  },
  {
   "cell_type": "code",
   "execution_count": 15,
   "metadata": {
    "height": 47
   },
   "outputs": [
    {
     "name": "stdout",
     "output_type": "stream",
     "text": [
      "\u001b[1m\u001b[95m [DEBUG]: == Working Agent: Content Planner\u001b[00m\n",
      "\u001b[1m\u001b[95m [INFO]: == Starting Task: 1. Prioritize the latest trends, key players, and noteworthy news on Motivation or Discipline.\n",
      "2. Identify the target audience, considering their interests and pain points.\n",
      "3. Develop a detailed content outline including an introduction, key points, and a call to action.\n",
      "4. Include SEO keywords and relevant data or sources.\u001b[00m\n",
      "\n",
      "\n",
      "\u001b[1m> Entering new CrewAgentExecutor chain...\u001b[0m\n",
      "\u001b[32;1m\u001b[1;3mI now can give a great answer\n",
      "\n",
      "Final Answer: \n",
      "\n",
      "Title: Unlocking the Power of Motivation and Discipline: A Guide to Achieving Your Goals\n",
      "\n",
      "Introduction:\n",
      "In a world filled with distractions and obstacles, finding the motivation and discipline to pursue our goals can be a challenging task. However, by understanding the latest trends, key players, and noteworthy news in the realm of motivation and discipline, we can equip ourselves with the knowledge and tools necessary to overcome these obstacles and achieve success.\n",
      "\n",
      "Target Audience:\n",
      "Our target audience includes individuals who are looking to improve their productivity, achieve their goals, and overcome procrastination. They are interested in self-improvement, personal development, and are seeking practical tips and strategies to enhance their motivation and discipline. The pain points of our audience include feeling stuck, lacking motivation, and struggling to maintain consistency in their efforts.\n",
      "\n",
      "Content Outline:\n",
      "I. Introduction\n",
      "- Brief overview of the importance of motivation and discipline in achieving goals\n",
      "\n",
      "II. Latest Trends in Motivation and Discipline\n",
      "- Discuss recent studies and research findings on motivation and discipline\n",
      "- Highlight popular trends in the self-improvement industry related to motivation and discipline\n",
      "\n",
      "III. Key Players in the Field\n",
      "- Profile successful individuals who have mastered the art of motivation and discipline\n",
      "- Share insights and tips from experts in the field of psychology and productivity\n",
      "\n",
      "IV. Noteworthy News\n",
      "- Summarize recent news articles and developments related to motivation and discipline\n",
      "- Discuss how current events can impact our motivation and discipline levels\n",
      "\n",
      "V. Developing Motivation and Discipline\n",
      "- Practical strategies for boosting motivation and maintaining discipline\n",
      "- Tips for setting and achieving goals effectively\n",
      "\n",
      "VI. Call to Action\n",
      "- Encourage readers to implement the strategies discussed in the article\n",
      "- Provide resources for further reading and support\n",
      "\n",
      "SEO Keywords:\n",
      "- motivation tips, discipline strategies, goal setting, productivity hacks, self-improvement techniques\n",
      "\n",
      "Resources:\n",
      "1. \"The Power of Habit\" by Charles Duhigg\n",
      "2. \"Grit: The Power of Passion and Perseverance\" by Angela Duckworth\n",
      "3. Psychology Today: Motivation and Goal Setting articles\n",
      "\n",
      "By following this comprehensive content plan, we can create an engaging and informative blog article that helps our audience unlock the power of motivation and discipline in their lives.\u001b[0m\n",
      "\n",
      "\u001b[1m> Finished chain.\u001b[0m\n",
      "\u001b[1m\u001b[92m [DEBUG]: == [Content Planner] Task output: Title: Unlocking the Power of Motivation and Discipline: A Guide to Achieving Your Goals\n",
      "\n",
      "Introduction:\n",
      "In a world filled with distractions and obstacles, finding the motivation and discipline to pursue our goals can be a challenging task. However, by understanding the latest trends, key players, and noteworthy news in the realm of motivation and discipline, we can equip ourselves with the knowledge and tools necessary to overcome these obstacles and achieve success.\n",
      "\n",
      "Target Audience:\n",
      "Our target audience includes individuals who are looking to improve their productivity, achieve their goals, and overcome procrastination. They are interested in self-improvement, personal development, and are seeking practical tips and strategies to enhance their motivation and discipline. The pain points of our audience include feeling stuck, lacking motivation, and struggling to maintain consistency in their efforts.\n",
      "\n",
      "Content Outline:\n",
      "I. Introduction\n",
      "- Brief overview of the importance of motivation and discipline in achieving goals\n",
      "\n",
      "II. Latest Trends in Motivation and Discipline\n",
      "- Discuss recent studies and research findings on motivation and discipline\n",
      "- Highlight popular trends in the self-improvement industry related to motivation and discipline\n",
      "\n",
      "III. Key Players in the Field\n",
      "- Profile successful individuals who have mastered the art of motivation and discipline\n",
      "- Share insights and tips from experts in the field of psychology and productivity\n",
      "\n",
      "IV. Noteworthy News\n",
      "- Summarize recent news articles and developments related to motivation and discipline\n",
      "- Discuss how current events can impact our motivation and discipline levels\n",
      "\n",
      "V. Developing Motivation and Discipline\n",
      "- Practical strategies for boosting motivation and maintaining discipline\n",
      "- Tips for setting and achieving goals effectively\n",
      "\n",
      "VI. Call to Action\n",
      "- Encourage readers to implement the strategies discussed in the article\n",
      "- Provide resources for further reading and support\n",
      "\n",
      "SEO Keywords:\n",
      "- motivation tips, discipline strategies, goal setting, productivity hacks, self-improvement techniques\n",
      "\n",
      "Resources:\n",
      "1. \"The Power of Habit\" by Charles Duhigg\n",
      "2. \"Grit: The Power of Passion and Perseverance\" by Angela Duckworth\n",
      "3. Psychology Today: Motivation and Goal Setting articles\n",
      "\n",
      "By following this comprehensive content plan, we can create an engaging and informative blog article that helps our audience unlock the power of motivation and discipline in their lives.\n",
      "\n",
      "\u001b[00m\n",
      "\u001b[1m\u001b[95m [DEBUG]: == Working Agent: Content Writer\u001b[00m\n",
      "\u001b[1m\u001b[95m [INFO]: == Starting Task: 1. Use the content plan to craft a compelling blog post on Motivation or Discipline.\n",
      "2. Incorporate SEO keywords naturally.\n",
      "3. Sections/Subtitles are properly named in an engaging manner.\n",
      "4. Ensure the post is structured with an engaging introduction, insightful body, and a summarizing conclusion.\n",
      "5. Proofread for grammatical errors and alignment with the brand's voice.\n",
      "\u001b[00m\n",
      "\n",
      "\n",
      "\u001b[1m> Entering new CrewAgentExecutor chain...\u001b[0m\n",
      "\u001b[32;1m\u001b[1;3mI now can give a great answer\n",
      "\n",
      "Final Answer:\n",
      "\n",
      "# Unlocking the Power of Motivation and Discipline: A Guide to Achieving Your Goals\n",
      "\n",
      "## Introduction\n",
      "In a world filled with distractions and obstacles, finding the motivation and discipline to pursue our goals can be a challenging task. However, by understanding the latest trends, key players, and noteworthy news in the realm of motivation and discipline, we can equip ourselves with the knowledge and tools necessary to overcome these obstacles and achieve success.\n",
      "\n",
      "## Latest Trends in Motivation and Discipline\n",
      "Recent studies and research findings have shown that motivation and discipline are crucial factors in achieving goals. Studies have highlighted the importance of intrinsic motivation, which comes from within oneself, as opposed to extrinsic motivation, which comes from external rewards. Additionally, research has shown that discipline, or the ability to stay focused and maintain consistency in one's efforts, is essential for long-term success.\n",
      "\n",
      "In the self-improvement industry, popular trends related to motivation and discipline include the rise of mindfulness practices, such as meditation and journaling, as well as the importance of setting SMART goals - specific, measurable, achievable, relevant, and time-bound. These trends emphasize the importance of self-awareness, goal-setting, and self-discipline in achieving personal growth and success.\n",
      "\n",
      "## Key Players in the Field\n",
      "Successful individuals who have mastered the art of motivation and discipline serve as inspiration for others looking to achieve their goals. Profiles of individuals like Elon Musk, who is known for his relentless work ethic and dedication to his vision, demonstrate the power of motivation and discipline in achieving extraordinary success. Experts in the fields of psychology and productivity, such as Angela Duckworth and Charles Duhigg, provide valuable insights and tips for cultivating motivation and discipline in one's daily life.\n",
      "\n",
      "## Noteworthy News\n",
      "Stay up-to-date on recent news articles and developments related to motivation and discipline can provide valuable insights into how current events can impact our motivation levels. For example, recent studies have shown that remote work and digital distractions can negatively impact one's motivation and productivity. By staying informed about these trends, individuals can take proactive steps to maintain their motivation and discipline in the face of external challenges.\n",
      "\n",
      "## Developing Motivation and Discipline\n",
      "Practical strategies for boosting motivation and maintaining discipline are essential for achieving long-term success. Tips such as creating a daily routine, setting specific goals, and rewarding oneself for progress can help individuals stay motivated and focused on their objectives. Additionally, cultivating a growth mindset, which emphasizes learning from failure and embracing challenges, can help individuals maintain their motivation and overcome obstacles on their path to success.\n",
      "\n",
      "## Call to Action\n",
      "As we conclude this guide to unlocking the power of motivation and discipline, we encourage readers to implement the strategies discussed in this article. By taking small steps towards cultivating motivation and discipline in their daily lives, individuals can make significant progress towards achieving their goals. For further reading and support, resources such as \"The Power of Habit\" by Charles Duhigg and \"Grit: The Power of Passion and Perseverance\" by Angela Duckworth can provide valuable insights and inspiration on the journey to success.\u001b[0m\n",
      "\n",
      "\u001b[1m> Finished chain.\u001b[0m\n",
      "\u001b[1m\u001b[92m [DEBUG]: == [Content Writer] Task output: # Unlocking the Power of Motivation and Discipline: A Guide to Achieving Your Goals\n",
      "\n",
      "## Introduction\n",
      "In a world filled with distractions and obstacles, finding the motivation and discipline to pursue our goals can be a challenging task. However, by understanding the latest trends, key players, and noteworthy news in the realm of motivation and discipline, we can equip ourselves with the knowledge and tools necessary to overcome these obstacles and achieve success.\n",
      "\n",
      "## Latest Trends in Motivation and Discipline\n",
      "Recent studies and research findings have shown that motivation and discipline are crucial factors in achieving goals. Studies have highlighted the importance of intrinsic motivation, which comes from within oneself, as opposed to extrinsic motivation, which comes from external rewards. Additionally, research has shown that discipline, or the ability to stay focused and maintain consistency in one's efforts, is essential for long-term success.\n",
      "\n",
      "In the self-improvement industry, popular trends related to motivation and discipline include the rise of mindfulness practices, such as meditation and journaling, as well as the importance of setting SMART goals - specific, measurable, achievable, relevant, and time-bound. These trends emphasize the importance of self-awareness, goal-setting, and self-discipline in achieving personal growth and success.\n",
      "\n",
      "## Key Players in the Field\n",
      "Successful individuals who have mastered the art of motivation and discipline serve as inspiration for others looking to achieve their goals. Profiles of individuals like Elon Musk, who is known for his relentless work ethic and dedication to his vision, demonstrate the power of motivation and discipline in achieving extraordinary success. Experts in the fields of psychology and productivity, such as Angela Duckworth and Charles Duhigg, provide valuable insights and tips for cultivating motivation and discipline in one's daily life.\n",
      "\n",
      "## Noteworthy News\n",
      "Stay up-to-date on recent news articles and developments related to motivation and discipline can provide valuable insights into how current events can impact our motivation levels. For example, recent studies have shown that remote work and digital distractions can negatively impact one's motivation and productivity. By staying informed about these trends, individuals can take proactive steps to maintain their motivation and discipline in the face of external challenges.\n",
      "\n",
      "## Developing Motivation and Discipline\n",
      "Practical strategies for boosting motivation and maintaining discipline are essential for achieving long-term success. Tips such as creating a daily routine, setting specific goals, and rewarding oneself for progress can help individuals stay motivated and focused on their objectives. Additionally, cultivating a growth mindset, which emphasizes learning from failure and embracing challenges, can help individuals maintain their motivation and overcome obstacles on their path to success.\n",
      "\n",
      "## Call to Action\n",
      "As we conclude this guide to unlocking the power of motivation and discipline, we encourage readers to implement the strategies discussed in this article. By taking small steps towards cultivating motivation and discipline in their daily lives, individuals can make significant progress towards achieving their goals. For further reading and support, resources such as \"The Power of Habit\" by Charles Duhigg and \"Grit: The Power of Passion and Perseverance\" by Angela Duckworth can provide valuable insights and inspiration on the journey to success.\n",
      "\n",
      "\u001b[00m\n",
      "\u001b[1m\u001b[95m [DEBUG]: == Working Agent: Editor\u001b[00m\n",
      "\u001b[1m\u001b[95m [INFO]: == Starting Task: Proofread the given blog post for grammatical errors and alignment with the brand's voice.\u001b[00m\n",
      "\n",
      "\n",
      "\u001b[1m> Entering new CrewAgentExecutor chain...\u001b[0m\n"
     ]
    },
    {
     "name": "stdout",
     "output_type": "stream",
     "text": [
      "\u001b[32;1m\u001b[1;3mI now can give a great answer\n",
      "\n",
      "Final Answer: \n",
      "\n",
      "# Unlocking the Power of Motivation and Discipline: A Guide to Achieving Your Goals\n",
      "\n",
      "## Introduction\n",
      "In a world filled with distractions and obstacles, finding the motivation and discipline to pursue our goals can be a challenging task. However, by understanding the latest trends, key players, and noteworthy news in the realm of motivation and discipline, we can equip ourselves with the knowledge and tools necessary to overcome these obstacles and achieve success.\n",
      "\n",
      "## Latest Trends in Motivation and Discipline\n",
      "Recent studies and research findings have shown that motivation and discipline are crucial factors in achieving goals. Studies have highlighted the importance of intrinsic motivation, which comes from within oneself, as opposed to extrinsic motivation, which comes from external rewards. Additionally, research has shown that discipline, or the ability to stay focused and maintain consistency in one's efforts, is essential for long-term success.\n",
      "\n",
      "In the self-improvement industry, popular trends related to motivation and discipline include the rise of mindfulness practices, such as meditation and journaling, as well as the importance of setting SMART goals - specific, measurable, achievable, relevant, and time-bound. These trends emphasize the importance of self-awareness, goal-setting, and self-discipline in achieving personal growth and success.\n",
      "\n",
      "## Key Players in the Field\n",
      "Successful individuals who have mastered the art of motivation and discipline serve as inspiration for others looking to achieve their goals. Profiles of individuals like Elon Musk, who is known for his relentless work ethic and dedication to his vision, demonstrate the power of motivation and discipline in achieving extraordinary success. Experts in the fields of psychology and productivity, such as Angela Duckworth and Charles Duhigg, provide valuable insights and tips for cultivating motivation and discipline in one's daily life.\n",
      "\n",
      "## Noteworthy News\n",
      "Staying up-to-date on recent news articles and developments related to motivation and discipline can provide valuable insights into how current events can impact our motivation levels. For example, recent studies have shown that remote work and digital distractions can negatively impact one's motivation and productivity. By staying informed about these trends, individuals can take proactive steps to maintain their motivation and discipline in the face of external challenges.\n",
      "\n",
      "## Developing Motivation and Discipline\n",
      "Practical strategies for boosting motivation and maintaining discipline are essential for achieving long-term success. Tips such as creating a daily routine, setting specific goals, and rewarding oneself for progress can help individuals stay motivated and focused on their objectives. Additionally, cultivating a growth mindset, which emphasizes learning from failure and embracing challenges, can help individuals maintain their motivation and overcome obstacles on their path to success.\n",
      "\n",
      "## Call to Action\n",
      "As we conclude this guide to unlocking the power of motivation and discipline, we encourage readers to implement the strategies discussed in this article. By taking small steps towards cultivating motivation and discipline in their daily lives, individuals can make significant progress towards achieving their goals. For further reading and support, resources such as \"The Power of Habit\" by Charles Duhigg and \"Grit: The Power of Passion and Perseverance\" by Angela Duckworth can provide valuable insights and inspiration on the journey to success.\u001b[0m\n",
      "\n",
      "\u001b[1m> Finished chain.\u001b[0m\n",
      "\u001b[1m\u001b[92m [DEBUG]: == [Editor] Task output: # Unlocking the Power of Motivation and Discipline: A Guide to Achieving Your Goals\n",
      "\n",
      "## Introduction\n",
      "In a world filled with distractions and obstacles, finding the motivation and discipline to pursue our goals can be a challenging task. However, by understanding the latest trends, key players, and noteworthy news in the realm of motivation and discipline, we can equip ourselves with the knowledge and tools necessary to overcome these obstacles and achieve success.\n",
      "\n",
      "## Latest Trends in Motivation and Discipline\n",
      "Recent studies and research findings have shown that motivation and discipline are crucial factors in achieving goals. Studies have highlighted the importance of intrinsic motivation, which comes from within oneself, as opposed to extrinsic motivation, which comes from external rewards. Additionally, research has shown that discipline, or the ability to stay focused and maintain consistency in one's efforts, is essential for long-term success.\n",
      "\n",
      "In the self-improvement industry, popular trends related to motivation and discipline include the rise of mindfulness practices, such as meditation and journaling, as well as the importance of setting SMART goals - specific, measurable, achievable, relevant, and time-bound. These trends emphasize the importance of self-awareness, goal-setting, and self-discipline in achieving personal growth and success.\n",
      "\n",
      "## Key Players in the Field\n",
      "Successful individuals who have mastered the art of motivation and discipline serve as inspiration for others looking to achieve their goals. Profiles of individuals like Elon Musk, who is known for his relentless work ethic and dedication to his vision, demonstrate the power of motivation and discipline in achieving extraordinary success. Experts in the fields of psychology and productivity, such as Angela Duckworth and Charles Duhigg, provide valuable insights and tips for cultivating motivation and discipline in one's daily life.\n",
      "\n",
      "## Noteworthy News\n",
      "Staying up-to-date on recent news articles and developments related to motivation and discipline can provide valuable insights into how current events can impact our motivation levels. For example, recent studies have shown that remote work and digital distractions can negatively impact one's motivation and productivity. By staying informed about these trends, individuals can take proactive steps to maintain their motivation and discipline in the face of external challenges.\n",
      "\n",
      "## Developing Motivation and Discipline\n",
      "Practical strategies for boosting motivation and maintaining discipline are essential for achieving long-term success. Tips such as creating a daily routine, setting specific goals, and rewarding oneself for progress can help individuals stay motivated and focused on their objectives. Additionally, cultivating a growth mindset, which emphasizes learning from failure and embracing challenges, can help individuals maintain their motivation and overcome obstacles on their path to success.\n",
      "\n",
      "## Call to Action\n",
      "As we conclude this guide to unlocking the power of motivation and discipline, we encourage readers to implement the strategies discussed in this article. By taking small steps towards cultivating motivation and discipline in their daily lives, individuals can make significant progress towards achieving their goals. For further reading and support, resources such as \"The Power of Habit\" by Charles Duhigg and \"Grit: The Power of Passion and Perseverance\" by Angela Duckworth can provide valuable insights and inspiration on the journey to success.\n",
      "\n",
      "\u001b[00m\n"
     ]
    }
   ],
   "source": [
    "topic = \"Motivation or Discipline\"\n",
    "result = crew.kickoff(inputs={\"topic\": topic})"
   ]
  },
  {
   "cell_type": "code",
   "execution_count": 16,
   "metadata": {
    "height": 30
   },
   "outputs": [
    {
     "data": {
      "text/markdown": [
       "# Unlocking the Power of Motivation and Discipline: A Guide to Achieving Your Goals\n",
       "\n",
       "## Introduction\n",
       "In a world filled with distractions and obstacles, finding the motivation and discipline to pursue our goals can be a challenging task. However, by understanding the latest trends, key players, and noteworthy news in the realm of motivation and discipline, we can equip ourselves with the knowledge and tools necessary to overcome these obstacles and achieve success.\n",
       "\n",
       "## Latest Trends in Motivation and Discipline\n",
       "Recent studies and research findings have shown that motivation and discipline are crucial factors in achieving goals. Studies have highlighted the importance of intrinsic motivation, which comes from within oneself, as opposed to extrinsic motivation, which comes from external rewards. Additionally, research has shown that discipline, or the ability to stay focused and maintain consistency in one's efforts, is essential for long-term success.\n",
       "\n",
       "In the self-improvement industry, popular trends related to motivation and discipline include the rise of mindfulness practices, such as meditation and journaling, as well as the importance of setting SMART goals - specific, measurable, achievable, relevant, and time-bound. These trends emphasize the importance of self-awareness, goal-setting, and self-discipline in achieving personal growth and success.\n",
       "\n",
       "## Key Players in the Field\n",
       "Successful individuals who have mastered the art of motivation and discipline serve as inspiration for others looking to achieve their goals. Profiles of individuals like Elon Musk, who is known for his relentless work ethic and dedication to his vision, demonstrate the power of motivation and discipline in achieving extraordinary success. Experts in the fields of psychology and productivity, such as Angela Duckworth and Charles Duhigg, provide valuable insights and tips for cultivating motivation and discipline in one's daily life.\n",
       "\n",
       "## Noteworthy News\n",
       "Staying up-to-date on recent news articles and developments related to motivation and discipline can provide valuable insights into how current events can impact our motivation levels. For example, recent studies have shown that remote work and digital distractions can negatively impact one's motivation and productivity. By staying informed about these trends, individuals can take proactive steps to maintain their motivation and discipline in the face of external challenges.\n",
       "\n",
       "## Developing Motivation and Discipline\n",
       "Practical strategies for boosting motivation and maintaining discipline are essential for achieving long-term success. Tips such as creating a daily routine, setting specific goals, and rewarding oneself for progress can help individuals stay motivated and focused on their objectives. Additionally, cultivating a growth mindset, which emphasizes learning from failure and embracing challenges, can help individuals maintain their motivation and overcome obstacles on their path to success.\n",
       "\n",
       "## Call to Action\n",
       "As we conclude this guide to unlocking the power of motivation and discipline, we encourage readers to implement the strategies discussed in this article. By taking small steps towards cultivating motivation and discipline in their daily lives, individuals can make significant progress towards achieving their goals. For further reading and support, resources such as \"The Power of Habit\" by Charles Duhigg and \"Grit: The Power of Passion and Perseverance\" by Angela Duckworth can provide valuable insights and inspiration on the journey to success."
      ],
      "text/plain": [
       "<IPython.core.display.Markdown object>"
      ]
     },
     "execution_count": 16,
     "metadata": {},
     "output_type": "execute_result"
    }
   ],
   "source": [
    "Markdown(result)"
   ]
  },
  {
   "cell_type": "markdown",
   "metadata": {},
   "source": [
    "<a name='1'></a>\n",
    " ## Other Popular Models as LLM for your Agents"
   ]
  },
  {
   "cell_type": "markdown",
   "metadata": {},
   "source": [
    "#### Hugging Face (HuggingFaceHub endpoint)\n",
    "\n",
    "```Python\n",
    "from langchain_community.llms import HuggingFaceHub\n",
    "\n",
    "llm = HuggingFaceHub(\n",
    "    repo_id=\"HuggingFaceH4/zephyr-7b-beta\",\n",
    "    huggingfacehub_api_token=\"<HF_TOKEN_HERE>\",\n",
    "    task=\"text-generation\",\n",
    ")\n",
    "\n",
    "### you will pass \"llm\" to your agent function\n",
    "```"
   ]
  },
  {
   "cell_type": "markdown",
   "metadata": {},
   "source": [
    "#### Mistral API\n",
    "\n",
    "```Python\n",
    "OPENAI_API_KEY=your-mistral-api-key\n",
    "OPENAI_API_BASE=https://api.mistral.ai/v1\n",
    "OPENAI_MODEL_NAME=\"mistral-small\"\n",
    "```"
   ]
  },
  {
   "cell_type": "markdown",
   "metadata": {},
   "source": [
    "#### Cohere\n",
    "\n",
    "```Python\n",
    "from langchain_community.chat_models import ChatCohere\n",
    "# Initialize language model\n",
    "os.environ[\"COHERE_API_KEY\"] = \"your-cohere-api-key\"\n",
    "llm = ChatCohere()\n",
    "\n",
    "### you will pass \"llm\" to your agent function\n",
    "```"
   ]
  },
  {
   "cell_type": "markdown",
   "metadata": {},
   "source": [
    "### For using Llama locally with Ollama and more, checkout the crewAI documentation on [Connecting to any LLM](https://docs.crewai.com/how-to/LLM-Connections/)."
   ]
  },
  {
   "cell_type": "code",
   "execution_count": null,
   "metadata": {
    "height": 30
   },
   "outputs": [],
   "source": []
  },
  {
   "cell_type": "code",
   "execution_count": null,
   "metadata": {
    "height": 30
   },
   "outputs": [],
   "source": []
  },
  {
   "cell_type": "code",
   "execution_count": null,
   "metadata": {
    "height": 30
   },
   "outputs": [],
   "source": []
  }
 ],
 "metadata": {
  "colab": {
   "gpuType": "T4",
   "provenance": []
  },
  "kernelspec": {
   "display_name": "Python 3 (ipykernel)",
   "language": "python",
   "name": "python3"
  },
  "language_info": {
   "codemirror_mode": {
    "name": "ipython",
    "version": 3
   },
   "file_extension": ".py",
   "mimetype": "text/x-python",
   "name": "python",
   "nbconvert_exporter": "python",
   "pygments_lexer": "ipython3",
   "version": "3.11.9"
  }
 },
 "nbformat": 4,
 "nbformat_minor": 4
}
